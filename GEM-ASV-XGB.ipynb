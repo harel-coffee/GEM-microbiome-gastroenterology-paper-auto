{
 "cells": [
  {
   "cell_type": "code",
   "execution_count": 24,
   "metadata": {
    "ExecuteTime": {
     "end_time": "2021-06-22T04:45:46.221016Z",
     "start_time": "2021-06-22T04:45:46.213558Z"
    }
   },
   "outputs": [
    {
     "name": "stdout",
     "output_type": "stream",
     "text": [
      "0.2.1\n"
     ]
    }
   ],
   "source": [
    "# basic imports\n",
    "import sys\n",
    "sys.path.append(\"/home/raygoza/anaconda3/envs/humann/lib/python3.8/site-packages/\")\n",
    "import numpy as np\n",
    "import pandas as pd\n",
    "import matplotlib.pyplot as plt\n",
    "from tqdm import tqdm\n",
    "\n",
    "# models and metrics\n",
    "import xgboost as xgb\n",
    "from sklearn.model_selection import train_test_split\n",
    "from xgbse.metrics import concordance_index\n",
    "from xgbse.non_parametric import get_time_bins\n",
    "import xgbse\n",
    "from xgbse import (\n",
    "    XGBSEKaplanNeighbors,\n",
    "    XGBSEKaplanTree,\n",
    "    XGBSEDebiasedBCE,\n",
    "    XGBSEBootstrapEstimator\n",
    ")\n",
    "from xgbse.converters import (\n",
    "    convert_data_to_xgb_format,\n",
    "    convert_to_structured\n",
    ")\n",
    "\n",
    "# better plots\n",
    "from IPython.display import set_matplotlib_formats\n",
    "set_matplotlib_formats('retina')\n",
    "plt.style.use('bmh')\n",
    "\n",
    "# setting seed\n",
    "np.random.seed(42)\n",
    "from sklearn import tree\n",
    "from sksurv.datasets import get_x_y\n",
    "from sksurv.io.arffread import loadarff\n",
    "import pandas as pd\n",
    "print(xgbse.__version__)"
   ]
  },
  {
   "cell_type": "code",
   "execution_count": 25,
   "metadata": {
    "ExecuteTime": {
     "end_time": "2021-06-22T04:45:46.226767Z",
     "start_time": "2021-06-22T04:45:46.222454Z"
    }
   },
   "outputs": [],
   "source": [
    "# to easily plot confidence intervals\n",
    "\n",
    "def plot_ci(mean, upper_ci, lower_ci, i=42, title='Probability of survival $P(T \\geq t)$'):\n",
    "    \n",
    "    # plotting mean and confidence intervals\n",
    "    plt.figure(figsize=(12, 4), dpi=120)\n",
    "    plt.plot(mean.columns,mean.iloc[i])\n",
    "    plt.fill_between(mean.columns, lower_ci.iloc[i], upper_ci.iloc[i], alpha=0.2)\n",
    "\n",
    "    plt.title(title)\n",
    "    plt.xlabel('Time [days]')\n",
    "    plt.ylabel('Probability')\n",
    "    plt.tight_layout()"
   ]
  },
  {
   "cell_type": "code",
   "execution_count": 26,
   "metadata": {
    "ExecuteTime": {
     "end_time": "2021-06-22T04:45:46.230901Z",
     "start_time": "2021-06-22T04:45:46.227555Z"
    }
   },
   "outputs": [],
   "source": [
    "# to write data as markdown for publication\n",
    "\n",
    "def df_to_markdown(df, float_format='%.2g'):\n",
    "    \"\"\"\n",
    "    Export a pandas.DataFrame to markdown-formatted text.\n",
    "    DataFrame should not contain any `|` characters.\n",
    "    \"\"\"\n",
    "    from os import linesep\n",
    "    df.columns = df.columns.astype(str)\n",
    "    return linesep.join([\n",
    "        '|'.join(df.columns),\n",
    "        '|'.join(4 * '-' for i in df.columns),\n",
    "        df.to_csv(sep='|', index=False, header=False, float_format=float_format)\n",
    "    ]).replace('|', ' | ')"
   ]
  },
  {
   "cell_type": "code",
   "execution_count": 27,
   "metadata": {
    "ExecuteTime": {
     "end_time": "2021-06-22T04:45:46.235187Z",
     "start_time": "2021-06-22T04:45:46.231783Z"
    }
   },
   "outputs": [],
   "source": [
    "## pre selected params for models ##\n",
    "\n",
    "PARAMS_XGB_AFT = {\n",
    "    'objective': 'survival:aft',\n",
    "    'eval_metric': 'aft-nloglik',\n",
    "    'aft_loss_distribution': 'normal',\n",
    "    'aft_loss_distribution_scale': 1.0,\n",
    "    'tree_method': 'hist', \n",
    "    'learning_rate': 5e-2, \n",
    "    'max_depth': 5, \n",
    "    'booster':'dart',\n",
    "    'subsample':0.5,\n",
    "    'min_child_weight': 58,\n",
    "    'colsample_bynode':0.5\n",
    "}\n",
    "\n",
    "\n",
    "\n",
    "N_NEIGHBORS = 50\n",
    "\n",
    "TIME_BINS = np.arange(15, 315, 15)"
   ]
  },
  {
   "cell_type": "code",
   "execution_count": 28,
   "metadata": {
    "ExecuteTime": {
     "end_time": "2021-06-22T04:45:46.542146Z",
     "start_time": "2021-06-22T04:45:46.236355Z"
    }
   },
   "outputs": [],
   "source": [
    "gem_train = loadarff('training_rsf_fin.arff')\n",
    "\n",
    "\n",
    "\n",
    "gem_test = loadarff('testing_rsf_fin.arff')\n",
    "\n",
    "X_train, y_train=get_x_y(gem_train,attr_labels=['events','TimeInStudy'],pos_label='TRUE')\n",
    "\n",
    "X_valid, y_valid=get_x_y(gem_test,attr_labels=['events','TimeInStudy'],pos_label='TRUE')\n",
    "\n",
    "feature_names=list(X_train.columns)\n",
    "\n",
    "\n",
    "\n",
    "random_state=20\n",
    "\n",
    "#random_state=30"
   ]
  },
  {
   "cell_type": "code",
   "execution_count": 29,
   "metadata": {
    "ExecuteTime": {
     "end_time": "2021-06-22T04:46:01.611374Z",
     "start_time": "2021-06-22T04:45:46.543186Z"
    }
   },
   "outputs": [
    {
     "name": "stdout",
     "output_type": "stream",
     "text": [
      "C-index: 0.608\n"
     ]
    }
   ],
   "source": [
    "# converting to xgboost format\n",
    "dtrain = convert_data_to_xgb_format(X_train, y_train, 'survival:aft')\n",
    "dval = convert_data_to_xgb_format(X_valid, y_valid, 'survival:aft')\n",
    "\n",
    "# training model\n",
    "bst = xgb.train(\n",
    "    PARAMS_XGB_AFT,\n",
    "    dtrain,\n",
    "    num_boost_round=100,\n",
    "    early_stopping_rounds=100,\n",
    "    evals=[(dval, 'val')],\n",
    "    verbose_eval=0\n",
    ")\n",
    "\n",
    "# predicting and evaluating\n",
    "preds = bst.predict(dval)\n",
    "\n",
    "cind = concordance_index(y_valid, -preds, risk_strategy='precomputed')\n",
    "print(f\"C-index: {cind:.3f}\")\n",
    "\n",
    "\n",
    "def pred(df):\n",
    "    b=convert_data_to_xgb_format(X_valid, y_valid, 'survival:aft')\n",
    "    return()"
   ]
  }
 ],
 "metadata": {
  "kernelspec": {
   "display_name": "Python 3",
   "language": "python",
   "name": "python3"
  },
  "language_info": {
   "codemirror_mode": {
    "name": "ipython",
    "version": 3
   },
   "file_extension": ".py",
   "mimetype": "text/x-python",
   "name": "python",
   "nbconvert_exporter": "python",
   "pygments_lexer": "ipython3",
   "version": "3.7.6"
  },
  "varInspector": {
   "cols": {
    "lenName": 16,
    "lenType": 16,
    "lenVar": 40
   },
   "kernels_config": {
    "python": {
     "delete_cmd_postfix": "",
     "delete_cmd_prefix": "del ",
     "library": "var_list.py",
     "varRefreshCmd": "print(var_dic_list())"
    },
    "r": {
     "delete_cmd_postfix": ") ",
     "delete_cmd_prefix": "rm(",
     "library": "var_list.r",
     "varRefreshCmd": "cat(var_dic_list()) "
    }
   },
   "types_to_exclude": [
    "module",
    "function",
    "builtin_function_or_method",
    "instance",
    "_Feature"
   ],
   "window_display": false
  }
 },
 "nbformat": 4,
 "nbformat_minor": 4
}
