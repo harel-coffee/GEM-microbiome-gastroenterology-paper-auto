{
 "cells": [
  {
   "cell_type": "code",
   "execution_count": 1,
   "metadata": {
    "ExecuteTime": {
     "end_time": "2021-05-31T00:53:44.189564Z",
     "start_time": "2021-05-31T00:53:42.910066Z"
    },
    "scrolled": true
   },
   "outputs": [
    {
     "name": "stderr",
     "output_type": "stream",
     "text": [
      "/home/raygoza/anaconda3/envs/rsf2/lib/python3.6/site-packages/sklearn/utils/deprecation.py:144: FutureWarning: The sklearn.metrics.scorer module is  deprecated in version 0.22 and will be removed in version 0.24. The corresponding classes / functions should instead be imported from sklearn.metrics. Anything that cannot be imported from sklearn.metrics is now part of the private API.\n",
      "  warnings.warn(message, FutureWarning)\n",
      "/home/raygoza/anaconda3/envs/rsf2/lib/python3.6/site-packages/sklearn/utils/deprecation.py:144: FutureWarning: The sklearn.feature_selection.base module is  deprecated in version 0.22 and will be removed in version 0.24. The corresponding classes / functions should instead be imported from sklearn.feature_selection. Anything that cannot be imported from sklearn.feature_selection is now part of the private API.\n",
      "  warnings.warn(message, FutureWarning)\n"
     ]
    }
   ],
   "source": [
    "import matplotlib.pyplot as plt\n",
    "import numpy as np\n",
    "import eli5\n",
    "from eli5.sklearn import PermutationImportance\n",
    "%matplotlib inline\n",
    "from sklearn import tree\n",
    "from sksurv.datasets import get_x_y\n",
    "from sksurv.io.arffread import loadarff\n",
    "from sksurv.preprocessing import OneHotEncoder\n",
    "from sksurv.ensemble import RandomSurvivalForest\n",
    "from sklearn.model_selection import GridSearchCV\n",
    "import pandas as pd\n",
    "from sklearn.model_selection import RandomizedSearchCV\n",
    "import re\n",
    "import pickle\n"
   ]
  },
  {
   "cell_type": "code",
   "execution_count": 2,
   "metadata": {
    "ExecuteTime": {
     "end_time": "2021-05-31T00:53:44.450121Z",
     "start_time": "2021-05-31T00:53:44.190433Z"
    }
   },
   "outputs": [],
   "source": [
    "gem_train = loadarff('/home/raygoza/mbp/training_rsf_fin.arff')\n",
    "\n",
    "\n",
    "\n",
    "gem_test = loadarff('/home/raygoza/mbp/testing_rsf_fin.arff')"
   ]
  },
  {
   "cell_type": "code",
   "execution_count": 3,
   "metadata": {
    "ExecuteTime": {
     "end_time": "2021-05-31T00:53:44.456500Z",
     "start_time": "2021-05-31T00:53:44.451156Z"
    }
   },
   "outputs": [],
   "source": [
    "X_train, y_train=get_x_y(gem_train,attr_labels=['events','TimeInStudy'],pos_label='TRUE')\n",
    "\n",
    "X_test, y_test=get_x_y(gem_test,attr_labels=['events','TimeInStudy'],pos_label='TRUE')\n",
    "\n",
    "feature_names=list(X_train.columns)\n",
    "\n",
    "\n",
    "\n",
    "random_state=20\n",
    "\n",
    "#random_state=30"
   ]
  },
  {
   "cell_type": "code",
   "execution_count": 4,
   "metadata": {
    "ExecuteTime": {
     "end_time": "2021-05-31T00:53:44.460457Z",
     "start_time": "2021-05-31T00:53:44.457415Z"
    }
   },
   "outputs": [],
   "source": [
    "rsf = RandomSurvivalForest(n_estimators=64,\n",
    "                           min_samples_split=100,\n",
    "                           min_samples_leaf=20,\n",
    "                           max_features=\"auto\",\n",
    "                           n_jobs=24,\n",
    "                           random_state=random_state,oob_score=True)"
   ]
  },
  {
   "cell_type": "code",
   "execution_count": 5,
   "metadata": {
    "ExecuteTime": {
     "end_time": "2021-05-31T00:53:56.963516Z",
     "start_time": "2021-05-31T00:53:44.461775Z"
    }
   },
   "outputs": [
    {
     "data": {
      "text/plain": [
       "RandomSurvivalForest(bootstrap=True, max_depth=None, max_features='auto',\n",
       "                     max_leaf_nodes=None, max_samples=None, min_samples_leaf=20,\n",
       "                     min_samples_split=100, min_weight_fraction_leaf=0.0,\n",
       "                     n_estimators=64, n_jobs=24, oob_score=True,\n",
       "                     random_state=20, verbose=0, warm_start=False)"
      ]
     },
     "execution_count": 5,
     "metadata": {},
     "output_type": "execute_result"
    }
   ],
   "source": [
    "rsf.fit(X_train, y_train)"
   ]
  },
  {
   "cell_type": "code",
   "execution_count": 6,
   "metadata": {
    "ExecuteTime": {
     "end_time": "2021-05-31T00:53:57.081439Z",
     "start_time": "2021-05-31T00:53:56.964602Z"
    }
   },
   "outputs": [
    {
     "name": "stdout",
     "output_type": "stream",
     "text": [
      "0.6050846795714602\n",
      "0.9863835769796535\n"
     ]
    }
   ],
   "source": [
    "print(rsf.oob_score_)\n",
    "print(rsf.score(X_train, y_train))"
   ]
  },
  {
   "cell_type": "code",
   "execution_count": 7,
   "metadata": {
    "ExecuteTime": {
     "end_time": "2021-05-31T00:53:57.194854Z",
     "start_time": "2021-05-31T00:53:57.082410Z"
    }
   },
   "outputs": [
    {
     "name": "stdout",
     "output_type": "stream",
     "text": [
      "0.6707911957168352\n"
     ]
    }
   ],
   "source": [
    "print(rsf.score(X_test, y_test))"
   ]
  }
 ],
 "metadata": {
  "kernelspec": {
   "display_name": "Python [conda env:rsf2]",
   "language": "python",
   "name": "conda-env-rsf2-py"
  },
  "language_info": {
   "codemirror_mode": {
    "name": "ipython",
    "version": 3
   },
   "file_extension": ".py",
   "mimetype": "text/x-python",
   "name": "python",
   "nbconvert_exporter": "python",
   "pygments_lexer": "ipython3",
   "version": "3.6.10"
  },
  "varInspector": {
   "cols": {
    "lenName": 16,
    "lenType": 16,
    "lenVar": 40
   },
   "kernels_config": {
    "python": {
     "delete_cmd_postfix": "",
     "delete_cmd_prefix": "del ",
     "library": "var_list.py",
     "varRefreshCmd": "print(var_dic_list())"
    },
    "r": {
     "delete_cmd_postfix": ") ",
     "delete_cmd_prefix": "rm(",
     "library": "var_list.r",
     "varRefreshCmd": "cat(var_dic_list()) "
    }
   },
   "position": {
    "height": "638px",
    "left": "1385px",
    "right": "20px",
    "top": "112px",
    "width": "307px"
   },
   "types_to_exclude": [
    "module",
    "function",
    "builtin_function_or_method",
    "instance",
    "_Feature"
   ],
   "window_display": true
  }
 },
 "nbformat": 4,
 "nbformat_minor": 2
}
