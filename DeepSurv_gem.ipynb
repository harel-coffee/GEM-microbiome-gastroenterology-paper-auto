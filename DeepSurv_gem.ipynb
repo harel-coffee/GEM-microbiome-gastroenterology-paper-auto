{
 "cells": [
  {
   "cell_type": "code",
   "execution_count": 7,
   "metadata": {
    "ExecuteTime": {
     "end_time": "2021-05-29T23:37:45.150437Z",
     "start_time": "2021-05-29T23:37:45.147553Z"
    }
   },
   "outputs": [],
   "source": [
    "import numpy as np\n",
    "import matplotlib.pyplot as plt\n",
    "from sklearn.preprocessing import StandardScaler\n",
    "from sklearn_pandas import DataFrameMapper\n",
    "\n",
    "import torch\n",
    "import torchtuples as tt\n",
    "import shap\n",
    "import pycox\n",
    "from pycox.datasets import metabric\n",
    "from pycox.models import CoxPH\n",
    "from pycox.evaluation import EvalSurv\n",
    "import pandas as pd"
   ]
  },
  {
   "cell_type": "code",
   "execution_count": 8,
   "metadata": {
    "ExecuteTime": {
     "end_time": "2021-05-29T23:37:46.022991Z",
     "start_time": "2021-05-29T23:37:46.019592Z"
    }
   },
   "outputs": [
    {
     "name": "stdout",
     "output_type": "stream",
     "text": [
      "0.2.2\n"
     ]
    }
   ],
   "source": [
    "np.random.seed(1234)\n",
    "_ = torch.manual_seed(123)\n",
    "print(pycox.__version__)"
   ]
  },
  {
   "cell_type": "code",
   "execution_count": 31,
   "metadata": {
    "ExecuteTime": {
     "end_time": "2021-05-03T01:05:26.714970Z",
     "start_time": "2021-05-03T01:05:26.673366Z"
    }
   },
   "outputs": [],
   "source": [
    "df_train=pd.read_csv('training_rsf_fin.tsv',sep=\"\\t\")\n",
    "df_train=df_train.rename(columns={\"events\":\"event\",\"TimeInStudy\":\"duration\"})\n",
    "\n",
    "df_test=pd.read_csv('testing_rsf_fin.tsv',sep=\"\\t\")\n",
    "df_test=df_test.rename(columns={\"events\":\"event\",\"TimeInStudy\":\"duration\"})"
   ]
  },
  {
   "cell_type": "code",
   "execution_count": 32,
   "metadata": {
    "ExecuteTime": {
     "end_time": "2021-05-03T01:05:26.728477Z",
     "start_time": "2021-05-03T01:05:26.715977Z"
    }
   },
   "outputs": [
    {
     "data": {
      "text/html": [
       "<div>\n",
       "<style scoped>\n",
       "    .dataframe tbody tr th:only-of-type {\n",
       "        vertical-align: middle;\n",
       "    }\n",
       "\n",
       "    .dataframe tbody tr th {\n",
       "        vertical-align: top;\n",
       "    }\n",
       "\n",
       "    .dataframe thead th {\n",
       "        text-align: right;\n",
       "    }\n",
       "</style>\n",
       "<table border=\"1\" class=\"dataframe\">\n",
       "  <thead>\n",
       "    <tr style=\"text-align: right;\">\n",
       "      <th></th>\n",
       "      <th>d__Bacteria.p__Bacteroidota.c__Bacteroidia.o__Bacteroidales.f__Marinifilaceae.g__Butyricimonas</th>\n",
       "      <th>d__Bacteria.p__Firmicutes.c__Clostridia.o__Lachnospirales.f__Lachnospiraceae.g__Lachnospiraceae_ND3007_group</th>\n",
       "      <th>d__Bacteria.p__Firmicutes.c__Negativicutes.o__Veillonellales.Selenomonadales.f__Selenomonadaceae.g__Megamonas</th>\n",
       "      <th>d__Bacteria.p__Firmicutes.c__Clostridia.o__Lachnospirales.f__Lachnospiraceae.g__Lachnospiraceae_UCG.003</th>\n",
       "      <th>d__Bacteria.p__Firmicutes.c__Clostridia.o__Clostridia_UCG.014.f__Clostridia_UCG.014.g__Clostridia_UCG.014</th>\n",
       "      <th>d__Bacteria.p__Firmicutes.c__Clostridia.o__Oscillospirales.f__uncultured.g__uncultured</th>\n",
       "      <th>d__Bacteria.p__Firmicutes.c__Clostridia.o__Oscillospirales.f__.Eubacterium._coprostanoligenes_group.g__.Eubacterium._coprostanoligenes_group</th>\n",
       "      <th>d__Bacteria.p__Actinobacteriota.c__Actinobacteria.o__Corynebacteriales.f__Corynebacteriaceae.g__Corynebacterium</th>\n",
       "      <th>d__Bacteria.p__Firmicutes.c__Clostridia.o__Christensenellales.f__Christensenellaceae.g__Christensenella</th>\n",
       "      <th>d__Bacteria.p__Firmicutes.c__Clostridia.o__Oscillospirales.f__Oscillospiraceae.g__Colidextribacter</th>\n",
       "      <th>...</th>\n",
       "      <th>d__Bacteria.p__Firmicutes.c__Clostridia.o__Oscillospirales.f__Oscillospiraceae.g__uncultured</th>\n",
       "      <th>d__Bacteria.p__Firmicutes.c__Bacilli.o__Lactobacillales.f__Streptococcaceae.g__Streptococcus</th>\n",
       "      <th>d__Bacteria.p__Firmicutes.c__Clostridia.o__Oscillospirales.f__.Clostridium._methylpentosum_group.g__.Clostridium._methylpentosum_group</th>\n",
       "      <th>d__Archaea.p__Euryarchaeota.c__Methanobacteria.o__Methanobacteriales.f__Methanobacteriaceae.g__Methanobrevibacter</th>\n",
       "      <th>age</th>\n",
       "      <th>sex</th>\n",
       "      <th>duration</th>\n",
       "      <th>event</th>\n",
       "      <th>reads</th>\n",
       "      <th>shannon</th>\n",
       "    </tr>\n",
       "  </thead>\n",
       "  <tbody>\n",
       "    <tr>\n",
       "      <th>0</th>\n",
       "      <td>0</td>\n",
       "      <td>1.697411</td>\n",
       "      <td>0</td>\n",
       "      <td>0</td>\n",
       "      <td>0</td>\n",
       "      <td>0</td>\n",
       "      <td>1.229757</td>\n",
       "      <td>0</td>\n",
       "      <td>0</td>\n",
       "      <td>0.000000</td>\n",
       "      <td>...</td>\n",
       "      <td>0</td>\n",
       "      <td>0.285789</td>\n",
       "      <td>0</td>\n",
       "      <td>0</td>\n",
       "      <td>23</td>\n",
       "      <td>1</td>\n",
       "      <td>11.413699</td>\n",
       "      <td>0.0</td>\n",
       "      <td>36719</td>\n",
       "      <td>3.880142</td>\n",
       "    </tr>\n",
       "    <tr>\n",
       "      <th>1</th>\n",
       "      <td>0</td>\n",
       "      <td>0.241975</td>\n",
       "      <td>0</td>\n",
       "      <td>0</td>\n",
       "      <td>1</td>\n",
       "      <td>0</td>\n",
       "      <td>0.299792</td>\n",
       "      <td>0</td>\n",
       "      <td>0</td>\n",
       "      <td>0.533202</td>\n",
       "      <td>...</td>\n",
       "      <td>1</td>\n",
       "      <td>0.098503</td>\n",
       "      <td>0</td>\n",
       "      <td>0</td>\n",
       "      <td>25</td>\n",
       "      <td>0</td>\n",
       "      <td>11.153425</td>\n",
       "      <td>0.0</td>\n",
       "      <td>49512</td>\n",
       "      <td>3.302877</td>\n",
       "    </tr>\n",
       "    <tr>\n",
       "      <th>2</th>\n",
       "      <td>0</td>\n",
       "      <td>0.708558</td>\n",
       "      <td>0</td>\n",
       "      <td>0</td>\n",
       "      <td>0</td>\n",
       "      <td>0</td>\n",
       "      <td>0.122830</td>\n",
       "      <td>0</td>\n",
       "      <td>0</td>\n",
       "      <td>0.014212</td>\n",
       "      <td>...</td>\n",
       "      <td>1</td>\n",
       "      <td>0.064968</td>\n",
       "      <td>0</td>\n",
       "      <td>0</td>\n",
       "      <td>23</td>\n",
       "      <td>0</td>\n",
       "      <td>11.115068</td>\n",
       "      <td>0.0</td>\n",
       "      <td>102284</td>\n",
       "      <td>2.993594</td>\n",
       "    </tr>\n",
       "    <tr>\n",
       "      <th>3</th>\n",
       "      <td>0</td>\n",
       "      <td>0.000000</td>\n",
       "      <td>0</td>\n",
       "      <td>0</td>\n",
       "      <td>1</td>\n",
       "      <td>0</td>\n",
       "      <td>0.000000</td>\n",
       "      <td>0</td>\n",
       "      <td>0</td>\n",
       "      <td>0.247811</td>\n",
       "      <td>...</td>\n",
       "      <td>0</td>\n",
       "      <td>0.019897</td>\n",
       "      <td>0</td>\n",
       "      <td>0</td>\n",
       "      <td>19</td>\n",
       "      <td>1</td>\n",
       "      <td>10.789041</td>\n",
       "      <td>0.0</td>\n",
       "      <td>57052</td>\n",
       "      <td>2.772918</td>\n",
       "    </tr>\n",
       "    <tr>\n",
       "      <th>4</th>\n",
       "      <td>0</td>\n",
       "      <td>0.415693</td>\n",
       "      <td>0</td>\n",
       "      <td>0</td>\n",
       "      <td>1</td>\n",
       "      <td>0</td>\n",
       "      <td>2.945877</td>\n",
       "      <td>0</td>\n",
       "      <td>0</td>\n",
       "      <td>0.213389</td>\n",
       "      <td>...</td>\n",
       "      <td>1</td>\n",
       "      <td>0.055426</td>\n",
       "      <td>1</td>\n",
       "      <td>0</td>\n",
       "      <td>29</td>\n",
       "      <td>0</td>\n",
       "      <td>1.654795</td>\n",
       "      <td>0.0</td>\n",
       "      <td>114134</td>\n",
       "      <td>4.483052</td>\n",
       "    </tr>\n",
       "  </tbody>\n",
       "</table>\n",
       "<p>5 rows × 171 columns</p>\n",
       "</div>"
      ],
      "text/plain": [
       "   d__Bacteria.p__Bacteroidota.c__Bacteroidia.o__Bacteroidales.f__Marinifilaceae.g__Butyricimonas  \\\n",
       "0                                                  0                                                \n",
       "1                                                  0                                                \n",
       "2                                                  0                                                \n",
       "3                                                  0                                                \n",
       "4                                                  0                                                \n",
       "\n",
       "   d__Bacteria.p__Firmicutes.c__Clostridia.o__Lachnospirales.f__Lachnospiraceae.g__Lachnospiraceae_ND3007_group  \\\n",
       "0                                           1.697411                                                              \n",
       "1                                           0.241975                                                              \n",
       "2                                           0.708558                                                              \n",
       "3                                           0.000000                                                              \n",
       "4                                           0.415693                                                              \n",
       "\n",
       "   d__Bacteria.p__Firmicutes.c__Negativicutes.o__Veillonellales.Selenomonadales.f__Selenomonadaceae.g__Megamonas  \\\n",
       "0                                                  0                                                               \n",
       "1                                                  0                                                               \n",
       "2                                                  0                                                               \n",
       "3                                                  0                                                               \n",
       "4                                                  0                                                               \n",
       "\n",
       "   d__Bacteria.p__Firmicutes.c__Clostridia.o__Lachnospirales.f__Lachnospiraceae.g__Lachnospiraceae_UCG.003  \\\n",
       "0                                                  0                                                         \n",
       "1                                                  0                                                         \n",
       "2                                                  0                                                         \n",
       "3                                                  0                                                         \n",
       "4                                                  0                                                         \n",
       "\n",
       "   d__Bacteria.p__Firmicutes.c__Clostridia.o__Clostridia_UCG.014.f__Clostridia_UCG.014.g__Clostridia_UCG.014  \\\n",
       "0                                                  0                                                           \n",
       "1                                                  1                                                           \n",
       "2                                                  0                                                           \n",
       "3                                                  1                                                           \n",
       "4                                                  1                                                           \n",
       "\n",
       "   d__Bacteria.p__Firmicutes.c__Clostridia.o__Oscillospirales.f__uncultured.g__uncultured  \\\n",
       "0                                                  0                                        \n",
       "1                                                  0                                        \n",
       "2                                                  0                                        \n",
       "3                                                  0                                        \n",
       "4                                                  0                                        \n",
       "\n",
       "   d__Bacteria.p__Firmicutes.c__Clostridia.o__Oscillospirales.f__.Eubacterium._coprostanoligenes_group.g__.Eubacterium._coprostanoligenes_group  \\\n",
       "0                                           1.229757                                                                                              \n",
       "1                                           0.299792                                                                                              \n",
       "2                                           0.122830                                                                                              \n",
       "3                                           0.000000                                                                                              \n",
       "4                                           2.945877                                                                                              \n",
       "\n",
       "   d__Bacteria.p__Actinobacteriota.c__Actinobacteria.o__Corynebacteriales.f__Corynebacteriaceae.g__Corynebacterium  \\\n",
       "0                                                  0                                                                 \n",
       "1                                                  0                                                                 \n",
       "2                                                  0                                                                 \n",
       "3                                                  0                                                                 \n",
       "4                                                  0                                                                 \n",
       "\n",
       "   d__Bacteria.p__Firmicutes.c__Clostridia.o__Christensenellales.f__Christensenellaceae.g__Christensenella  \\\n",
       "0                                                  0                                                         \n",
       "1                                                  0                                                         \n",
       "2                                                  0                                                         \n",
       "3                                                  0                                                         \n",
       "4                                                  0                                                         \n",
       "\n",
       "   d__Bacteria.p__Firmicutes.c__Clostridia.o__Oscillospirales.f__Oscillospiraceae.g__Colidextribacter  \\\n",
       "0                                           0.000000                                                    \n",
       "1                                           0.533202                                                    \n",
       "2                                           0.014212                                                    \n",
       "3                                           0.247811                                                    \n",
       "4                                           0.213389                                                    \n",
       "\n",
       "   ...  \\\n",
       "0  ...   \n",
       "1  ...   \n",
       "2  ...   \n",
       "3  ...   \n",
       "4  ...   \n",
       "\n",
       "   d__Bacteria.p__Firmicutes.c__Clostridia.o__Oscillospirales.f__Oscillospiraceae.g__uncultured  \\\n",
       "0                                                  0                                              \n",
       "1                                                  1                                              \n",
       "2                                                  1                                              \n",
       "3                                                  0                                              \n",
       "4                                                  1                                              \n",
       "\n",
       "   d__Bacteria.p__Firmicutes.c__Bacilli.o__Lactobacillales.f__Streptococcaceae.g__Streptococcus  \\\n",
       "0                                           0.285789                                              \n",
       "1                                           0.098503                                              \n",
       "2                                           0.064968                                              \n",
       "3                                           0.019897                                              \n",
       "4                                           0.055426                                              \n",
       "\n",
       "   d__Bacteria.p__Firmicutes.c__Clostridia.o__Oscillospirales.f__.Clostridium._methylpentosum_group.g__.Clostridium._methylpentosum_group  \\\n",
       "0                                                  0                                                                                        \n",
       "1                                                  0                                                                                        \n",
       "2                                                  0                                                                                        \n",
       "3                                                  0                                                                                        \n",
       "4                                                  1                                                                                        \n",
       "\n",
       "   d__Archaea.p__Euryarchaeota.c__Methanobacteria.o__Methanobacteriales.f__Methanobacteriaceae.g__Methanobrevibacter  \\\n",
       "0                                                  0                                                                   \n",
       "1                                                  0                                                                   \n",
       "2                                                  0                                                                   \n",
       "3                                                  0                                                                   \n",
       "4                                                  0                                                                   \n",
       "\n",
       "   age  sex   duration  event   reads   shannon  \n",
       "0   23    1  11.413699    0.0   36719  3.880142  \n",
       "1   25    0  11.153425    0.0   49512  3.302877  \n",
       "2   23    0  11.115068    0.0  102284  2.993594  \n",
       "3   19    1  10.789041    0.0   57052  2.772918  \n",
       "4   29    0   1.654795    0.0  114134  4.483052  \n",
       "\n",
       "[5 rows x 171 columns]"
      ]
     },
     "execution_count": 32,
     "metadata": {},
     "output_type": "execute_result"
    }
   ],
   "source": [
    "\n",
    "df_train[\"event\"]=df_train[\"event\"].astype(\"float32\")\n",
    "df_test[\"event\"]=df_test[\"event\"].astype(\"float32\")\n",
    "df_train.head()"
   ]
  },
  {
   "cell_type": "code",
   "execution_count": 33,
   "metadata": {
    "ExecuteTime": {
     "end_time": "2021-05-03T01:05:26.733219Z",
     "start_time": "2021-05-03T01:05:26.729254Z"
    }
   },
   "outputs": [],
   "source": [
    "cols_standardize = ['age', 'shannon', 'reads']\n",
    "cols_leave = list(df_train.filter(like='d_', axis=1).columns)\n",
    "cols_leave.append(\"sex\")\n",
    "standardize = [([col], StandardScaler()) for col in cols_standardize]\n",
    "\n",
    "leave = [(col, None) for col in cols_leave]\n",
    "\n",
    "x_mapper = DataFrameMapper(standardize + leave)"
   ]
  },
  {
   "cell_type": "code",
   "execution_count": 34,
   "metadata": {
    "ExecuteTime": {
     "end_time": "2021-05-03T01:05:26.753393Z",
     "start_time": "2021-05-03T01:05:26.734000Z"
    }
   },
   "outputs": [],
   "source": [
    "x_train = x_mapper.fit_transform(df_train).astype('float32')\n",
    "x_test = x_mapper.fit_transform(df_test).astype('float32')"
   ]
  },
  {
   "cell_type": "code",
   "execution_count": 37,
   "metadata": {
    "ExecuteTime": {
     "end_time": "2021-05-03T01:05:26.764191Z",
     "start_time": "2021-05-03T01:05:26.760916Z"
    }
   },
   "outputs": [
    {
     "data": {
      "text/plain": [
       "array([[ 0.6137421 ,  0.36331615, -1.0336689 , ...,  0.        ,\n",
       "         0.        ,  1.        ],\n",
       "       [ 0.86773074, -1.040564  , -0.59527963, ...,  0.        ,\n",
       "         0.        ,  0.        ],\n",
       "       [ 0.6137421 , -1.7927223 ,  1.2131058 , ...,  0.        ,\n",
       "         0.        ,  0.        ],\n",
       "       ...,\n",
       "       [-1.5451615 , -0.10989111, -0.0365416 , ...,  0.        ,\n",
       "         0.        ,  0.        ],\n",
       "       [-0.5292069 ,  0.036791  ,  0.8232742 , ...,  0.        ,\n",
       "         0.        ,  0.        ],\n",
       "       [ 0.6137421 ,  0.30153427,  0.1620066 , ...,  0.        ,\n",
       "         0.        ,  0.        ]], dtype=float32)"
      ]
     },
     "execution_count": 37,
     "metadata": {},
     "output_type": "execute_result"
    }
   ],
   "source": [
    "x_train"
   ]
  },
  {
   "cell_type": "code",
   "execution_count": 38,
   "metadata": {
    "ExecuteTime": {
     "end_time": "2021-05-03T01:05:26.768072Z",
     "start_time": "2021-05-03T01:05:26.765088Z"
    }
   },
   "outputs": [],
   "source": [
    "get_target = lambda df: (df['duration'].values, df['event'].values)\n",
    "y_train = get_target(df_train)\n",
    "y_test = get_target(df_test)\n",
    "durations_test, events_test = get_target(df_test)\n",
    "val=x_test, y_test"
   ]
  },
  {
   "cell_type": "code",
   "execution_count": 39,
   "metadata": {
    "ExecuteTime": {
     "end_time": "2021-05-03T01:05:26.773790Z",
     "start_time": "2021-05-03T01:05:26.768943Z"
    }
   },
   "outputs": [
    {
     "data": {
      "text/plain": [
       "(array([11.41369863, 11.15342466, 11.11506849, ...,  2.13424658,\n",
       "         2.11506849,  1.90136986]),\n",
       " array([0., 0., 0., ..., 0., 0., 0.], dtype=float32))"
      ]
     },
     "execution_count": 39,
     "metadata": {},
     "output_type": "execute_result"
    }
   ],
   "source": [
    "y_train"
   ]
  },
  {
   "cell_type": "code",
   "execution_count": 40,
   "metadata": {
    "ExecuteTime": {
     "end_time": "2021-05-03T01:05:26.778386Z",
     "start_time": "2021-05-03T01:05:26.774674Z"
    }
   },
   "outputs": [],
   "source": [
    "in_features = x_train.shape[1]\n",
    "n_nodes = 32\n",
    "num_nodes = [n_nodes,n_nodes]\n",
    "out_features = 1\n",
    "batch_norm = True\n",
    "dropout = 0.4\n",
    "output_bias = False\n",
    "\n",
    "net = tt.practical.MLPVanilla(in_features, num_nodes, out_features, batch_norm,\n",
    "                              dropout, output_bias=output_bias)\n"
   ]
  },
  {
   "cell_type": "code",
   "execution_count": 41,
   "metadata": {
    "ExecuteTime": {
     "end_time": "2021-05-03T01:05:26.781420Z",
     "start_time": "2021-05-03T01:05:26.779219Z"
    }
   },
   "outputs": [],
   "source": [
    "model = CoxPH(net, tt.optim.Adam)"
   ]
  },
  {
   "cell_type": "code",
   "execution_count": 42,
   "metadata": {
    "ExecuteTime": {
     "end_time": "2021-05-03T01:05:27.116084Z",
     "start_time": "2021-05-03T01:05:26.782280Z"
    },
    "scrolled": true
   },
   "outputs": [
    {
     "data": {
      "image/png": "[encoded data removed]",
      "text/plain": [
       "<Figure size 432x288 with 1 Axes>"
      ]
     },
     "metadata": {
      "needs_background": "light"
     },
     "output_type": "display_data"
    }
   ],
   "source": [
    "batch_size = 200\n",
    "lrfinder = model.lr_finder(x_train, y_train, batch_size, tolerance=10)\n",
    "_ = lrfinder.plot()"
   ]
  },
  {
   "cell_type": "code",
   "execution_count": 43,
   "metadata": {
    "ExecuteTime": {
     "end_time": "2021-05-03T01:05:27.119136Z",
     "start_time": "2021-05-03T01:05:27.116867Z"
    }
   },
   "outputs": [
    {
     "data": {
      "text/plain": [
       "0.0001"
      ]
     },
     "execution_count": 43,
     "metadata": {},
     "output_type": "execute_result"
    }
   ],
   "source": [
    "lrfinder.get_best_lr()"
   ]
  },
  {
   "cell_type": "code",
   "execution_count": 44,
   "metadata": {
    "ExecuteTime": {
     "end_time": "2021-05-03T01:05:27.123632Z",
     "start_time": "2021-05-03T01:05:27.119818Z"
    }
   },
   "outputs": [],
   "source": [
    "model.optimizer.set_lr(0.0001)"
   ]
  },
  {
   "cell_type": "code",
   "execution_count": 45,
   "metadata": {
    "ExecuteTime": {
     "end_time": "2021-05-03T01:05:27.127139Z",
     "start_time": "2021-05-03T01:05:27.124511Z"
    }
   },
   "outputs": [],
   "source": [
    "epochs = 1512\n",
    "callbacks = [tt.callbacks.EarlyStopping()]\n",
    "verbose = True"
   ]
  },
  {
   "cell_type": "code",
   "execution_count": 46,
   "metadata": {
    "ExecuteTime": {
     "end_time": "2021-05-03T01:05:27.368025Z",
     "start_time": "2021-05-03T01:05:27.128080Z"
    }
   },
   "outputs": [
    {
     "name": "stdout",
     "output_type": "stream",
     "text": [
      "0:\t[0s / 0s],\t\n",
      "1:\t[0s / 0s],\t\n",
      "2:\t[0s / 0s],\t\n",
      "3:\t[0s / 0s],\t\n",
      "4:\t[0s / 0s],\t\n",
      "5:\t[0s / 0s],\t\n",
      "6:\t[0s / 0s],\t\n",
      "7:\t[0s / 0s],\t\n",
      "8:\t[0s / 0s],\t\n",
      "9:\t[0s / 0s],\t\n",
      "CPU times: user 2.8 s, sys: 0 ns, total: 2.8 s\n",
      "Wall time: 237 ms\n"
     ]
    }
   ],
   "source": [
    "%%time\n",
    "log = model.fit(x_train, y_train, batch_size, epochs, callbacks, verbose,\n",
    "                val_data=val, val_batch_size=batch_size)"
   ]
  },
  {
   "cell_type": "code",
   "execution_count": 47,
   "metadata": {
    "ExecuteTime": {
     "end_time": "2021-05-03T01:05:27.431341Z",
     "start_time": "2021-05-03T01:05:27.368795Z"
    }
   },
   "outputs": [
    {
     "data": {
      "image/png": "[encoded data removed]",
      "text/plain": [
       "<Figure size 432x288 with 1 Axes>"
      ]
     },
     "metadata": {
      "needs_background": "light"
     },
     "output_type": "display_data"
    }
   ],
   "source": [
    "_ = log.plot()"
   ]
  },
  {
   "cell_type": "code",
   "execution_count": 48,
   "metadata": {
    "ExecuteTime": {
     "end_time": "2021-05-03T01:05:27.439321Z",
     "start_time": "2021-05-03T01:05:27.432092Z"
    }
   },
   "outputs": [],
   "source": [
    "_ = model.compute_baseline_hazards()"
   ]
  },
  {
   "cell_type": "code",
   "execution_count": 49,
   "metadata": {
    "ExecuteTime": {
     "end_time": "2021-05-03T01:05:27.457386Z",
     "start_time": "2021-05-03T01:05:27.440111Z"
    }
   },
   "outputs": [],
   "source": [
    "surv = model.predict_surv_df(x_test)\n"
   ]
  },
  {
   "cell_type": "code",
   "execution_count": 50,
   "metadata": {
    "ExecuteTime": {
     "end_time": "2021-05-03T01:05:27.557265Z",
     "start_time": "2021-05-03T01:05:27.458374Z"
    },
    "scrolled": true
   },
   "outputs": [
    {
     "data": {
      "image/png": "[encoded data removed]",
      "text/plain": [
       "<Figure size 432x288 with 1 Axes>"
      ]
     },
     "metadata": {
      "needs_background": "light"
     },
     "output_type": "display_data"
    }
   ],
   "source": [
    "surv.iloc[:, :5].plot()\n",
    "plt.ylabel('S(t | x)')\n",
    "_ = plt.xlabel('Time')"
   ]
  },
  {
   "cell_type": "code",
   "execution_count": 51,
   "metadata": {
    "ExecuteTime": {
     "end_time": "2021-05-03T01:05:27.822402Z",
     "start_time": "2021-05-03T01:05:27.559183Z"
    }
   },
   "outputs": [],
   "source": [
    "ev = EvalSurv(surv, durations_test, events_test, censor_surv='km')"
   ]
  },
  {
   "cell_type": "code",
   "execution_count": 52,
   "metadata": {
    "ExecuteTime": {
     "end_time": "2021-05-03T01:05:28.787733Z",
     "start_time": "2021-05-03T01:05:27.824153Z"
    }
   },
   "outputs": [
    {
     "data": {
      "text/plain": [
       "0.5909992069785884"
      ]
     },
     "execution_count": 52,
     "metadata": {},
     "output_type": "execute_result"
    }
   ],
   "source": [
    "ev.concordance_td()"
   ]
  },
  {
   "cell_type": "code",
   "execution_count": 53,
   "metadata": {
    "ExecuteTime": {
     "end_time": "2021-05-03T01:05:29.295967Z",
     "start_time": "2021-05-03T01:05:28.788612Z"
    }
   },
   "outputs": [
    {
     "data": {
      "image/png": "[encoded data removed]",
      "text/plain": [
       "<Figure size 432x288 with 1 Axes>"
      ]
     },
     "metadata": {
      "needs_background": "light"
     },
     "output_type": "display_data"
    }
   ],
   "source": [
    "time_grid = np.linspace(durations_test.min(), durations_test.max(), 100)\n",
    "_ = ev.brier_score(time_grid).plot()"
   ]
  },
  {
   "cell_type": "code",
   "execution_count": 54,
   "metadata": {
    "ExecuteTime": {
     "end_time": "2021-05-03T01:05:29.300751Z",
     "start_time": "2021-05-03T01:05:29.296736Z"
    }
   },
   "outputs": [
    {
     "data": {
      "text/plain": [
       "0.029454429123466387"
      ]
     },
     "execution_count": 54,
     "metadata": {},
     "output_type": "execute_result"
    }
   ],
   "source": [
    "ev.integrated_brier_score(time_grid)"
   ]
  },
  {
   "cell_type": "code",
   "execution_count": 55,
   "metadata": {
    "ExecuteTime": {
     "end_time": "2021-05-03T01:05:29.923264Z",
     "start_time": "2021-05-03T01:05:29.301466Z"
    }
   },
   "outputs": [
    {
     "data": {
      "text/plain": [
       "0.13987028685088226"
      ]
     },
     "execution_count": 55,
     "metadata": {},
     "output_type": "execute_result"
    }
   ],
   "source": [
    "ev.integrated_nbll(time_grid)"
   ]
  }
 ],
 "metadata": {
  "kernelspec": {
   "display_name": "Python [conda env:pycox]",
   "language": "python",
   "name": "conda-env-pycox-py"
  },
  "language_info": {
   "codemirror_mode": {
    "name": "ipython",
    "version": 3
   },
   "file_extension": ".py",
   "mimetype": "text/x-python",
   "name": "python",
   "nbconvert_exporter": "python",
   "pygments_lexer": "ipython3",
   "version": "3.9.2"
  },
  "varInspector": {
   "cols": {
    "lenName": 16,
    "lenType": 16,
    "lenVar": 40
   },
   "kernels_config": {
    "python": {
     "delete_cmd_postfix": "",
     "delete_cmd_prefix": "del ",
     "library": "var_list.py",
     "varRefreshCmd": "print(var_dic_list())"
    },
    "r": {
     "delete_cmd_postfix": ") ",
     "delete_cmd_prefix": "rm(",
     "library": "var_list.r",
     "varRefreshCmd": "cat(var_dic_list()) "
    }
   },
   "types_to_exclude": [
    "module",
    "function",
    "builtin_function_or_method",
    "instance",
    "_Feature"
   ],
   "window_display": false
  }
 },
 "nbformat": 4,
 "nbformat_minor": 4
}
